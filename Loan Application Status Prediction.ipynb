{
 "cells": [
  {
   "cell_type": "code",
   "execution_count": 22,
   "id": "0403e4ff",
   "metadata": {},
   "outputs": [],
   "source": [
    "# Import necessary libraries\n",
    "import pandas as pd\n",
    "import numpy as np\n",
    "import matplotlib.pyplot as plt\n",
    "import seaborn as sns\n",
    "from sklearn.model_selection import train_test_split, cross_val_score, GridSearchCV\n",
    "from sklearn.preprocessing import LabelEncoder, StandardScaler, OrdinalEncoder\n",
    "from sklearn.pipeline import Pipeline\n",
    "from sklearn.compose import ColumnTransformer\n",
    "from sklearn.impute import SimpleImputer\n",
    "from sklearn.metrics import classification_report, confusion_matrix\n",
    "from sklearn.ensemble import RandomForestClassifier\n",
    "from sklearn.linear_model import LogisticRegression\n",
    "from sklearn.svm import SVC\n",
    "from sklearn.neighbors import KNeighborsClassifier\n",
    "from sklearn.tree import DecisionTreeClassifier\n",
    "from sklearn.naive_bayes import GaussianNB"
   ]
  },
  {
   "cell_type": "code",
   "execution_count": 8,
   "id": "9c81057a",
   "metadata": {},
   "outputs": [],
   "source": [
    "# Load the dataset\n",
    "url = \"loan_prediction.csv\"\n",
    "df = pd.read_csv(url)\n",
    "\n",
    "# Assign correct column names\n",
    "df.columns = ['Loan_ID', 'Gender', 'Married', 'Dependents', 'Education', 'Self_Employed', \n",
    "              'ApplicantIncome', 'CoapplicantIncome', 'LoanAmount', 'Loan_Amount_Term', \n",
    "              'Credit_History', 'Property_Area', 'Loan_Status']"
   ]
  },
  {
   "cell_type": "markdown",
   "id": "5049f4e7",
   "metadata": {},
   "source": [
    "### Exploratory Data Analysis"
   ]
  },
  {
   "cell_type": "code",
   "execution_count": 9,
   "id": "78ba06c4",
   "metadata": {},
   "outputs": [
    {
     "data": {
      "text/html": [
       "<div>\n",
       "<style scoped>\n",
       "    .dataframe tbody tr th:only-of-type {\n",
       "        vertical-align: middle;\n",
       "    }\n",
       "\n",
       "    .dataframe tbody tr th {\n",
       "        vertical-align: top;\n",
       "    }\n",
       "\n",
       "    .dataframe thead th {\n",
       "        text-align: right;\n",
       "    }\n",
       "</style>\n",
       "<table border=\"1\" class=\"dataframe\">\n",
       "  <thead>\n",
       "    <tr style=\"text-align: right;\">\n",
       "      <th></th>\n",
       "      <th>Loan_ID</th>\n",
       "      <th>Gender</th>\n",
       "      <th>Married</th>\n",
       "      <th>Dependents</th>\n",
       "      <th>Education</th>\n",
       "      <th>Self_Employed</th>\n",
       "      <th>ApplicantIncome</th>\n",
       "      <th>CoapplicantIncome</th>\n",
       "      <th>LoanAmount</th>\n",
       "      <th>Loan_Amount_Term</th>\n",
       "      <th>Credit_History</th>\n",
       "      <th>Property_Area</th>\n",
       "      <th>Loan_Status</th>\n",
       "    </tr>\n",
       "  </thead>\n",
       "  <tbody>\n",
       "    <tr>\n",
       "      <th>0</th>\n",
       "      <td>LP001003</td>\n",
       "      <td>Male</td>\n",
       "      <td>Yes</td>\n",
       "      <td>1</td>\n",
       "      <td>Graduate</td>\n",
       "      <td>No</td>\n",
       "      <td>4583</td>\n",
       "      <td>1508.0</td>\n",
       "      <td>128.0</td>\n",
       "      <td>360.0</td>\n",
       "      <td>1.0</td>\n",
       "      <td>Rural</td>\n",
       "      <td>N</td>\n",
       "    </tr>\n",
       "    <tr>\n",
       "      <th>1</th>\n",
       "      <td>LP001005</td>\n",
       "      <td>Male</td>\n",
       "      <td>Yes</td>\n",
       "      <td>0</td>\n",
       "      <td>Graduate</td>\n",
       "      <td>Yes</td>\n",
       "      <td>3000</td>\n",
       "      <td>0.0</td>\n",
       "      <td>66.0</td>\n",
       "      <td>360.0</td>\n",
       "      <td>1.0</td>\n",
       "      <td>Urban</td>\n",
       "      <td>Y</td>\n",
       "    </tr>\n",
       "    <tr>\n",
       "      <th>2</th>\n",
       "      <td>LP001006</td>\n",
       "      <td>Male</td>\n",
       "      <td>Yes</td>\n",
       "      <td>0</td>\n",
       "      <td>Not Graduate</td>\n",
       "      <td>No</td>\n",
       "      <td>2583</td>\n",
       "      <td>2358.0</td>\n",
       "      <td>120.0</td>\n",
       "      <td>360.0</td>\n",
       "      <td>1.0</td>\n",
       "      <td>Urban</td>\n",
       "      <td>Y</td>\n",
       "    </tr>\n",
       "    <tr>\n",
       "      <th>3</th>\n",
       "      <td>LP001008</td>\n",
       "      <td>Male</td>\n",
       "      <td>No</td>\n",
       "      <td>0</td>\n",
       "      <td>Graduate</td>\n",
       "      <td>No</td>\n",
       "      <td>6000</td>\n",
       "      <td>0.0</td>\n",
       "      <td>141.0</td>\n",
       "      <td>360.0</td>\n",
       "      <td>1.0</td>\n",
       "      <td>Urban</td>\n",
       "      <td>Y</td>\n",
       "    </tr>\n",
       "    <tr>\n",
       "      <th>4</th>\n",
       "      <td>LP001011</td>\n",
       "      <td>Male</td>\n",
       "      <td>Yes</td>\n",
       "      <td>2</td>\n",
       "      <td>Graduate</td>\n",
       "      <td>Yes</td>\n",
       "      <td>5417</td>\n",
       "      <td>4196.0</td>\n",
       "      <td>267.0</td>\n",
       "      <td>360.0</td>\n",
       "      <td>1.0</td>\n",
       "      <td>Urban</td>\n",
       "      <td>Y</td>\n",
       "    </tr>\n",
       "  </tbody>\n",
       "</table>\n",
       "</div>"
      ],
      "text/plain": [
       "    Loan_ID Gender Married Dependents     Education Self_Employed  \\\n",
       "0  LP001003   Male     Yes          1      Graduate            No   \n",
       "1  LP001005   Male     Yes          0      Graduate           Yes   \n",
       "2  LP001006   Male     Yes          0  Not Graduate            No   \n",
       "3  LP001008   Male      No          0      Graduate            No   \n",
       "4  LP001011   Male     Yes          2      Graduate           Yes   \n",
       "\n",
       "   ApplicantIncome  CoapplicantIncome  LoanAmount  Loan_Amount_Term  \\\n",
       "0             4583             1508.0       128.0             360.0   \n",
       "1             3000                0.0        66.0             360.0   \n",
       "2             2583             2358.0       120.0             360.0   \n",
       "3             6000                0.0       141.0             360.0   \n",
       "4             5417             4196.0       267.0             360.0   \n",
       "\n",
       "   Credit_History Property_Area Loan_Status  \n",
       "0             1.0         Rural           N  \n",
       "1             1.0         Urban           Y  \n",
       "2             1.0         Urban           Y  \n",
       "3             1.0         Urban           Y  \n",
       "4             1.0         Urban           Y  "
      ]
     },
     "execution_count": 9,
     "metadata": {},
     "output_type": "execute_result"
    }
   ],
   "source": [
    "df.head()"
   ]
  },
  {
   "cell_type": "code",
   "execution_count": 10,
   "id": "b5cd53dd",
   "metadata": {},
   "outputs": [
    {
     "name": "stdout",
     "output_type": "stream",
     "text": [
      "<class 'pandas.core.frame.DataFrame'>\n",
      "RangeIndex: 613 entries, 0 to 612\n",
      "Data columns (total 13 columns):\n",
      " #   Column             Non-Null Count  Dtype  \n",
      "---  ------             --------------  -----  \n",
      " 0   Loan_ID            613 non-null    object \n",
      " 1   Gender             600 non-null    object \n",
      " 2   Married            610 non-null    object \n",
      " 3   Dependents         598 non-null    object \n",
      " 4   Education          613 non-null    object \n",
      " 5   Self_Employed      581 non-null    object \n",
      " 6   ApplicantIncome    613 non-null    int64  \n",
      " 7   CoapplicantIncome  613 non-null    float64\n",
      " 8   LoanAmount         592 non-null    float64\n",
      " 9   Loan_Amount_Term   599 non-null    float64\n",
      " 10  Credit_History     563 non-null    float64\n",
      " 11  Property_Area      613 non-null    object \n",
      " 12  Loan_Status        613 non-null    object \n",
      "dtypes: float64(4), int64(1), object(8)\n",
      "memory usage: 62.4+ KB\n"
     ]
    }
   ],
   "source": [
    "df.info()"
   ]
  },
  {
   "cell_type": "markdown",
   "id": "a1e39725",
   "metadata": {},
   "source": [
    "### Summary statistics for numerical columns"
   ]
  },
  {
   "cell_type": "code",
   "execution_count": 11,
   "id": "d7571600",
   "metadata": {},
   "outputs": [
    {
     "data": {
      "text/html": [
       "<div>\n",
       "<style scoped>\n",
       "    .dataframe tbody tr th:only-of-type {\n",
       "        vertical-align: middle;\n",
       "    }\n",
       "\n",
       "    .dataframe tbody tr th {\n",
       "        vertical-align: top;\n",
       "    }\n",
       "\n",
       "    .dataframe thead th {\n",
       "        text-align: right;\n",
       "    }\n",
       "</style>\n",
       "<table border=\"1\" class=\"dataframe\">\n",
       "  <thead>\n",
       "    <tr style=\"text-align: right;\">\n",
       "      <th></th>\n",
       "      <th>count</th>\n",
       "      <th>mean</th>\n",
       "      <th>std</th>\n",
       "      <th>min</th>\n",
       "      <th>25%</th>\n",
       "      <th>50%</th>\n",
       "      <th>75%</th>\n",
       "      <th>max</th>\n",
       "    </tr>\n",
       "  </thead>\n",
       "  <tbody>\n",
       "    <tr>\n",
       "      <th>ApplicantIncome</th>\n",
       "      <td>613.0</td>\n",
       "      <td>5402.732463</td>\n",
       "      <td>6114.004114</td>\n",
       "      <td>150.0</td>\n",
       "      <td>2876.0</td>\n",
       "      <td>3812.0</td>\n",
       "      <td>5780.0</td>\n",
       "      <td>81000.0</td>\n",
       "    </tr>\n",
       "    <tr>\n",
       "      <th>CoapplicantIncome</th>\n",
       "      <td>613.0</td>\n",
       "      <td>1623.890571</td>\n",
       "      <td>2927.903583</td>\n",
       "      <td>0.0</td>\n",
       "      <td>0.0</td>\n",
       "      <td>1210.0</td>\n",
       "      <td>2302.0</td>\n",
       "      <td>41667.0</td>\n",
       "    </tr>\n",
       "    <tr>\n",
       "      <th>LoanAmount</th>\n",
       "      <td>592.0</td>\n",
       "      <td>146.412162</td>\n",
       "      <td>85.587325</td>\n",
       "      <td>9.0</td>\n",
       "      <td>100.0</td>\n",
       "      <td>128.0</td>\n",
       "      <td>168.0</td>\n",
       "      <td>700.0</td>\n",
       "    </tr>\n",
       "    <tr>\n",
       "      <th>Loan_Amount_Term</th>\n",
       "      <td>599.0</td>\n",
       "      <td>341.969950</td>\n",
       "      <td>65.170672</td>\n",
       "      <td>12.0</td>\n",
       "      <td>360.0</td>\n",
       "      <td>360.0</td>\n",
       "      <td>360.0</td>\n",
       "      <td>480.0</td>\n",
       "    </tr>\n",
       "    <tr>\n",
       "      <th>Credit_History</th>\n",
       "      <td>563.0</td>\n",
       "      <td>0.841918</td>\n",
       "      <td>0.365142</td>\n",
       "      <td>0.0</td>\n",
       "      <td>1.0</td>\n",
       "      <td>1.0</td>\n",
       "      <td>1.0</td>\n",
       "      <td>1.0</td>\n",
       "    </tr>\n",
       "  </tbody>\n",
       "</table>\n",
       "</div>"
      ],
      "text/plain": [
       "                   count         mean          std    min     25%     50%  \\\n",
       "ApplicantIncome    613.0  5402.732463  6114.004114  150.0  2876.0  3812.0   \n",
       "CoapplicantIncome  613.0  1623.890571  2927.903583    0.0     0.0  1210.0   \n",
       "LoanAmount         592.0   146.412162    85.587325    9.0   100.0   128.0   \n",
       "Loan_Amount_Term   599.0   341.969950    65.170672   12.0   360.0   360.0   \n",
       "Credit_History     563.0     0.841918     0.365142    0.0     1.0     1.0   \n",
       "\n",
       "                      75%      max  \n",
       "ApplicantIncome    5780.0  81000.0  \n",
       "CoapplicantIncome  2302.0  41667.0  \n",
       "LoanAmount          168.0    700.0  \n",
       "Loan_Amount_Term    360.0    480.0  \n",
       "Credit_History        1.0      1.0  "
      ]
     },
     "execution_count": 11,
     "metadata": {},
     "output_type": "execute_result"
    }
   ],
   "source": [
    "df.describe().T"
   ]
  },
  {
   "cell_type": "markdown",
   "id": "15fded44",
   "metadata": {},
   "source": [
    "#### Check for missing values"
   ]
  },
  {
   "cell_type": "code",
   "execution_count": 12,
   "id": "138ac926",
   "metadata": {},
   "outputs": [
    {
     "name": "stdout",
     "output_type": "stream",
     "text": [
      "Loan_ID               0\n",
      "Gender               13\n",
      "Married               3\n",
      "Dependents           15\n",
      "Education             0\n",
      "Self_Employed        32\n",
      "ApplicantIncome       0\n",
      "CoapplicantIncome     0\n",
      "LoanAmount           21\n",
      "Loan_Amount_Term     14\n",
      "Credit_History       50\n",
      "Property_Area         0\n",
      "Loan_Status           0\n",
      "dtype: int64\n"
     ]
    }
   ],
   "source": [
    "print(df.isnull().sum())"
   ]
  },
  {
   "cell_type": "markdown",
   "id": "f0ef2980",
   "metadata": {},
   "source": [
    "#### Column with missing values"
   ]
  },
  {
   "cell_type": "markdown",
   "id": "d727a6f6",
   "metadata": {},
   "source": [
    "* Gender = 13\n",
    "* Married = 3\n",
    "* Dependents = 15\n",
    "* Self_Employed = 32\n",
    "* LoanAmount = 21\n",
    "* Loan_Amount_Term = 14\n",
    "* Credit_History = 50\n",
    "\n",
    "We Need to fixed this null values before start engineering"
   ]
  },
  {
   "cell_type": "markdown",
   "id": "0cb9aec8",
   "metadata": {},
   "source": [
    "## Data preprocessing"
   ]
  },
  {
   "cell_type": "code",
   "execution_count": 13,
   "id": "c721e936",
   "metadata": {},
   "outputs": [],
   "source": [
    "# Handle missing values\n",
    "df['Gender'].fillna(df['Gender'].mode()[0], inplace=True)\n",
    "df['Married'].fillna(df['Married'].mode()[0], inplace=True)\n",
    "df['Dependents'].fillna(df['Dependents'].mode()[0], inplace=True)\n",
    "df['Self_Employed'].fillna(df['Self_Employed'].mode()[0], inplace=True)\n",
    "df['Loan_Amount_Term'].fillna(df['Loan_Amount_Term'].mode()[0], inplace=True)\n",
    "df['Credit_History'].fillna(df['Credit_History'].mode()[0], inplace=True)\n",
    "df['LoanAmount'].fillna(df['LoanAmount'].median(), inplace=True)\n",
    "\n",
    "# Encode categorical variables\n",
    "label_encoder = LabelEncoder()\n",
    "df['Gender'] = label_encoder.fit_transform(df['Gender'])\n",
    "df['Married'] = label_encoder.fit_transform(df['Married'])\n",
    "df['Education'] = label_encoder.fit_transform(df['Education'])\n",
    "df['Self_Employed'] = label_encoder.fit_transform(df['Self_Employed'])\n",
    "df['Property_Area'] = label_encoder.fit_transform(df['Property_Area'])\n",
    "df['Loan_Status'] = label_encoder.fit_transform(df['Loan_Status'])\n"
   ]
  },
  {
   "cell_type": "markdown",
   "id": "d2c07043",
   "metadata": {},
   "source": [
    "## Data visualization"
   ]
  },
  {
   "cell_type": "code",
   "execution_count": 14,
   "id": "17f7d06e",
   "metadata": {},
   "outputs": [
    {
     "data": {
      "image/png": "[encoded data removed]",
      "text/plain": [
       "<Figure size 800x600 with 1 Axes>"
      ]
     },
     "metadata": {},
     "output_type": "display_data"
    }
   ],
   "source": [
    "# Distribution of Loan_Status\n",
    "plt.figure(figsize=(8, 6))\n",
    "sns.countplot(x='Loan_Status', data=df)\n",
    "plt.title('Loan Status Distribution')\n",
    "plt.xlabel('Loan Status')\n",
    "plt.ylabel('Count')\n",
    "plt.show()"
   ]
  },
  {
   "cell_type": "code",
   "execution_count": 15,
   "id": "143e99ac",
   "metadata": {},
   "outputs": [
    {
     "data": {
      "image/png": "[encoded data removed]",
      "text/plain": [
       "<Figure size 800x600 with 1 Axes>"
      ]
     },
     "metadata": {},
     "output_type": "display_data"
    }
   ],
   "source": [
    "# Relationship between Credit_History and Loan_Status\n",
    "plt.figure(figsize=(8, 6))\n",
    "sns.countplot(x='Credit_History', hue='Loan_Status', data=df)\n",
    "plt.title('Loan Status by Credit History')\n",
    "plt.xlabel('Credit History')\n",
    "plt.ylabel('Count')\n",
    "plt.show()"
   ]
  },
  {
   "cell_type": "code",
   "execution_count": 16,
   "id": "77f52a8d",
   "metadata": {},
   "outputs": [
    {
     "data": {
      "image/png": "[encoded data removed]",
      "text/plain": [
       "<Figure size 1000x800 with 1 Axes>"
      ]
     },
     "metadata": {},
     "output_type": "display_data"
    }
   ],
   "source": [
    "# Relationship between Applicant Income and Loan Amount\n",
    "plt.figure(figsize=(10, 8))\n",
    "sns.scatterplot(x='ApplicantIncome', y='LoanAmount', hue='Loan_Status', data=df)\n",
    "plt.title('Applicant Income vs Loan Amount by Loan Status')\n",
    "plt.xlabel('Applicant Income')\n",
    "plt.ylabel('Loan Amount')\n",
    "plt.show()"
   ]
  },
  {
   "cell_type": "markdown",
   "id": "0c91919d",
   "metadata": {},
   "source": [
    "## Model building"
   ]
  },
  {
   "cell_type": "code",
   "execution_count": 23,
   "id": "185053d7",
   "metadata": {},
   "outputs": [
    {
     "name": "stdout",
     "output_type": "stream",
     "text": [
      "Logistic Regression:\n",
      "  Training accuracy: 0.812\n",
      "  Test accuracy: 0.813\n",
      "\n",
      "Random Forest:\n",
      "  Training accuracy: 1.000\n",
      "  Test accuracy: 0.780\n",
      "\n",
      "Support Vector Machine:\n",
      "  Training accuracy: 0.824\n",
      "  Test accuracy: 0.780\n",
      "\n",
      "K-Nearest Neighbors:\n",
      "  Training accuracy: 0.827\n",
      "  Test accuracy: 0.797\n",
      "\n",
      "Decision Tree:\n",
      "  Training accuracy: 1.000\n",
      "  Test accuracy: 0.699\n",
      "\n",
      "Naive Bayes:\n",
      "  Training accuracy: 0.810\n",
      "  Test accuracy: 0.780\n",
      "\n"
     ]
    },
    {
     "name": "stderr",
     "output_type": "stream",
     "text": [
      "C:\\ProgramData\\Anaconda3\\lib\\site-packages\\sklearn\\neighbors\\_classification.py:228: FutureWarning: Unlike other reduction functions (e.g. `skew`, `kurtosis`), the default behavior of `mode` typically preserves the axis it acts along. In SciPy 1.11.0, this behavior will change: the default value of `keepdims` will become False, the `axis` over which the statistic is taken will be eliminated, and the value None will no longer be accepted. Set `keepdims` to True or False to avoid this warning.\n",
      "  mode, _ = stats.mode(_y[neigh_ind, k], axis=1)\n",
      "C:\\ProgramData\\Anaconda3\\lib\\site-packages\\sklearn\\neighbors\\_classification.py:228: FutureWarning: Unlike other reduction functions (e.g. `skew`, `kurtosis`), the default behavior of `mode` typically preserves the axis it acts along. In SciPy 1.11.0, this behavior will change: the default value of `keepdims` will become False, the `axis` over which the statistic is taken will be eliminated, and the value None will no longer be accepted. Set `keepdims` to True or False to avoid this warning.\n",
      "  mode, _ = stats.mode(_y[neigh_ind, k], axis=1)\n"
     ]
    },
    {
     "name": "stdout",
     "output_type": "stream",
     "text": [
      "Best parameters found:\n",
      "{'classifier__max_depth': 5, 'classifier__min_samples_leaf': 1, 'classifier__min_samples_split': 2, 'classifier__n_estimators': 50}\n",
      "Best cross-validation score:\n",
      "0.8081632653061224\n"
     ]
    }
   ],
   "source": [
    "# Feature selection\n",
    "X = df.drop(['Loan_ID', 'Loan_Status'], axis=1)\n",
    "y = df['Loan_Status']\n",
    "\n",
    "# Splitting dataset into training and test set\n",
    "X_train, X_test, y_train, y_test = train_test_split(X, y, test_size=0.2, random_state=42)\n",
    "\n",
    "# Define preprocessing steps\n",
    "numeric_features = X.select_dtypes(include=['int64', 'float64']).columns\n",
    "categorical_features = X.select_dtypes(include=['object']).columns\n",
    "\n",
    "numeric_transformer = Pipeline(steps=[\n",
    "    ('imputer', SimpleImputer(strategy='median')),\n",
    "    ('scaler', StandardScaler())\n",
    "])\n",
    "\n",
    "categorical_transformer = Pipeline(steps=[\n",
    "    ('imputer', SimpleImputer(strategy='most_frequent')),\n",
    "    ('encoder', OrdinalEncoder())\n",
    "])\n",
    "\n",
    "preprocessor = ColumnTransformer(\n",
    "    transformers=[\n",
    "        ('num', numeric_transformer, numeric_features),\n",
    "        ('cat', categorical_transformer, categorical_features)\n",
    "    ])\n",
    "\n",
    "# Models to evaluate\n",
    "models = {\n",
    "    'Logistic Regression': LogisticRegression(),\n",
    "    'Random Forest': RandomForestClassifier(),\n",
    "    'Support Vector Machine': SVC(),\n",
    "    'K-Nearest Neighbors': KNeighborsClassifier(),\n",
    "    'Decision Tree': DecisionTreeClassifier(),\n",
    "    'Naive Bayes': GaussianNB()\n",
    "}\n",
    "\n",
    "# Function to evaluate models\n",
    "def evaluate_models(models, X_train, X_test, y_train, y_test):\n",
    "    for name, model in models.items():\n",
    "        pipe = Pipeline(steps=[\n",
    "            ('preprocessor', preprocessor),\n",
    "            ('classifier', model)\n",
    "        ])\n",
    "        pipe.fit(X_train, y_train)\n",
    "        train_score = pipe.score(X_train, y_train)\n",
    "        test_score = pipe.score(X_test, y_test)\n",
    "        print(f\"{name}:\")\n",
    "        print(f\"  Training accuracy: {train_score:.3f}\")\n",
    "        print(f\"  Test accuracy: {test_score:.3f}\")\n",
    "        print()\n",
    "\n",
    "# Evaluate models\n",
    "evaluate_models(models, X_train, X_test, y_train, y_test)\n",
    "\n",
    "# Model selection and tuning (Example with Random Forest)\n",
    "# Hyperparameter tuning with GridSearchCV\n",
    "param_grid = {\n",
    "    'classifier__n_estimators': [50, 100, 150],\n",
    "    'classifier__max_depth': [None, 5, 10, 15],\n",
    "    'classifier__min_samples_split': [2, 5, 10],\n",
    "    'classifier__min_samples_leaf': [1, 2, 4]\n",
    "}\n",
    "\n",
    "rf_pipeline = Pipeline(steps=[\n",
    "    ('preprocessor', preprocessor),\n",
    "    ('classifier', RandomForestClassifier(random_state=42))\n",
    "])\n",
    "\n",
    "grid_search = GridSearchCV(rf_pipeline, param_grid, cv=5, scoring='accuracy')\n",
    "grid_search.fit(X_train, y_train)\n",
    "\n",
    "print(\"Best parameters found:\")\n",
    "print(grid_search.best_params_)\n",
    "print(\"Best cross-validation score:\")\n",
    "print(grid_search.best_score_)"
   ]
  },
  {
   "cell_type": "markdown",
   "id": "5bf7e658",
   "metadata": {},
   "source": [
    "### Model Performance Overview"
   ]
  },
  {
   "cell_type": "markdown",
   "id": "69d9ef0e",
   "metadata": {},
   "source": [
    "**Logistic Regression:**\n",
    "\n",
    "* Training accuracy: 81.2%\n",
    "* Test accuracy: 81.3%\n",
    "* Logistic Regression performed well, with a balanced performance on both the training and test sets.\n",
    "\n",
    "**Random Forest:**\n",
    "\n",
    "* Training accuracy: 100%\n",
    "* Test accuracy: 78%\n",
    "* The Random Forest model exhibited overfitting, as it achieved perfect accuracy on the training set but significantly lower accuracy on the test set.\n",
    "\n",
    "**Support Vector Machine (SVM):**\n",
    "\n",
    "* Training accuracy: 82.4%\n",
    "* Test accuracy: 78%\n",
    "* The SVM model also performed well, with a slight overfitting indicated by the difference between training and test accuracies.\n",
    "\n",
    "**K-Nearest Neighbors (KNN):**\n",
    "\n",
    "* Training accuracy: 82.7%\n",
    "* Test accuracy: 79.7%\n",
    "* KNN showed a good balance between training and test performance, indicating a reasonable fit to the data.\n",
    "\n",
    "**Decision Tree:**\n",
    "\n",
    "* Training accuracy: 100%\n",
    "* Test accuracy: 69.9%\n",
    "* The Decision Tree model overfitted the training data significantly, as seen by the perfect training accuracy and poor test accuracy.\n",
    "\n",
    "**Naive Bayes:**\n",
    "\n",
    "* Training accuracy: 81%\n",
    "* Test accuracy: 78%\n",
    "* Naive Bayes performed similarly to Logistic Regression and SVM, with consistent performance on both training and test sets.\n",
    "\n",
    "* Hyperparameter Tuning Results\n",
    "\n",
    "**Random Forest:**\n",
    "**Best parameters found:**\n",
    "* max_depth: 5\n",
    "* min_samples_leaf: 1\n",
    "* min_samples_split: 2\n",
    "* n_estimators: 50\n",
    "* Best cross-validation score: 80.8%\n",
    "* The tuned Random Forest model achieved a better cross-validation score compared to the untuned model, indicating improved generalizability."
   ]
  },
  {
   "cell_type": "code",
   "execution_count": 24,
   "id": "f55f0ffd",
   "metadata": {},
   "outputs": [
    {
     "name": "stdout",
     "output_type": "stream",
     "text": [
      "Classification Report:\n",
      "              precision    recall  f1-score   support\n",
      "\n",
      "           0       0.82      0.38      0.52        37\n",
      "           1       0.78      0.97      0.86        86\n",
      "\n",
      "    accuracy                           0.79       123\n",
      "   macro avg       0.80      0.67      0.69       123\n",
      "weighted avg       0.80      0.79      0.76       123\n",
      "\n"
     ]
    },
    {
     "data": {
      "image/png": "[encoded data removed]",
      "text/plain": [
       "<Figure size 600x400 with 2 Axes>"
      ]
     },
     "metadata": {},
     "output_type": "display_data"
    }
   ],
   "source": [
    "# Final model evaluation\n",
    "final_model = grid_search.best_estimator_\n",
    "final_model.fit(X_train, y_train)\n",
    "y_pred = final_model.predict(X_test)\n",
    "\n",
    "# Classification report and confusion matrix\n",
    "print(\"Classification Report:\")\n",
    "print(classification_report(y_test, y_pred))\n",
    "\n",
    "# Confusion Matrix\n",
    "plt.figure(figsize=(6, 4))\n",
    "sns.heatmap(confusion_matrix(y_test, y_pred), annot=True, fmt='d', cmap='Blues')\n",
    "plt.xlabel('Predicted')\n",
    "plt.ylabel('Actual')\n",
    "plt.title('Confusion Matrix')\n",
    "plt.show()"
   ]
  },
  {
   "cell_type": "markdown",
   "id": "dc8a5d24",
   "metadata": {},
   "source": [
    "## Final Model Evaluation"
   ]
  },
  {
   "cell_type": "markdown",
   "id": "ff76bfb6",
   "metadata": {},
   "source": [
    "**Final Model (Tuned Random Forest):**\n",
    "**Classification Report:**\n",
    "* Precision, recall, and f1-score were higher for class '1' (loan approved) compared to class '0' (loan not approved).\n",
    "* Overall accuracy: 79%\n",
    "* Macro average (balanced across both classes): Precision (80%), Recall (67%), F1-score (69%)\n",
    "* Weighted average (considering class distribution): Precision (80%), Recall (79%), F1-score (76%)\n",
    "\n",
    "**Confusion Matrix:**\n",
    "\n",
    "* True Negatives (correctly predicted as loan not approved): 14\n",
    "* False Positives (incorrectly predicted as loan approved): 23\n",
    "* False Negatives (incorrectly predicted as loan not approved): 3\n",
    "* True Positives (correctly predicted as loan approved): 83"
   ]
  },
  {
   "cell_type": "markdown",
   "id": "500c3d5a",
   "metadata": {},
   "source": [
    "## Conclusion"
   ]
  },
  {
   "cell_type": "markdown",
   "id": "10358b2b",
   "metadata": {},
   "source": [
    "**Model Selection:**\n",
    "\n",
    "* Logistic Regression, SVM, KNN, and Naive Bayes models performed comparably well, with test accuracies around 78-81%.\n",
    "* The Decision Tree model overfitted the training data and underperformed on the test data.\n",
    "* The initial Random Forest model also showed overfitting, but after hyperparameter tuning, the Random Forest model provided a more balanced performance.\n",
    "\n",
    "**Tuned Random Forest Model:**\n",
    "\n",
    "* The hyperparameter-tuned Random Forest model demonstrated improved generalizability with a cross-validation accuracy of approximately 80.8%.\n",
    "* The tuned model achieved a test accuracy of 79%, with better performance metrics for predicting loan approvals compared to rejections.\n",
    "\n",
    "**Performance Metrics:**\n",
    "\n",
    "* The tuned Random Forest model showed higher precision, recall, and f1-score for predicting loan approvals, which is critical for reducing false positives in a real-world loan approval scenario.\n",
    "* The model's recall for predicting loan approvals (97%) is particularly important, as it indicates the model's effectiveness in identifying most of the applicants who should be granted loans."
   ]
  },
  {
   "cell_type": "code",
   "execution_count": null,
   "id": "b0ea56dd",
   "metadata": {},
   "outputs": [],
   "source": []
  }
 ],
 "metadata": {
  "kernelspec": {
   "display_name": "Python 3 (ipykernel)",
   "language": "python",
   "name": "python3"
  },
  "language_info": {
   "codemirror_mode": {
    "name": "ipython",
    "version": 3
   },
   "file_extension": ".py",
   "mimetype": "text/x-python",
   "name": "python",
   "nbconvert_exporter": "python",
   "pygments_lexer": "ipython3",
   "version": "3.9.13"
  }
 },
 "nbformat": 4,
 "nbformat_minor": 5
}
